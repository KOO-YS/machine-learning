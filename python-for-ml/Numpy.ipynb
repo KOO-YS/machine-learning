#%% md

# Numpy

- 일반 List 대비 빠름
- 메모리 효율적
- 반복문 없이 배열에 대한 처리 지원
- 선형대수 관련 기능 제공

## ndarray

#%%

import numpy as np

#%% md

### Array Creation

#%%

# 데이터 타입이 하나로 통일된다
test_array = np.array([1,2,"3",4], float)    # (사용할 데이터 , 생성할 데이터 타입)
print(test_array)
type(test_array[3])   # 하나의 element가 차지하는 비트 : 64bit  

#%% md

\* 참고 \*
<br>
python에서는 2차원 배열은 얕은 복사가 되기 때문에 (주소값을 복사함)
<br>
copy.deepCopy()를 쓰자
<br>
numpy 같은경우 주소값 대신 데이터를 바로 쌓기 때문에 빠르다

#%%

import copy 

a = [[1,2,3,4],[5,6,7,8]]
b = a                    # 얕은 복사
c = copy.deepcopy(a)     # 깊은 복사
a[0][0] = 100
print("a : ",a)
print("b : ",b)
print("c : ",c)

#%% md

### Shape

- 행렬의 차원을 표현
- tuple 타입 반환

#%%

# 비교
print(test_array.shape)
test_array2 = np.array([[1,2,3]], float)
print(test_array2.shape)

print("차원 : ",test_array2.ndim," , 데이터 개수 : ",test_array2.size)

#%% md

### handling shape
<br>
** reshape **

#%%

#  ex) (2, 4) 배열을 (1, 8)로 바꾸는 경우
test_matrix = [[1,2,3,4],[5,6,7,8]]
np.array(test_matrix).reshape(8,)
np.array(test_matrix).reshape(-1,2,2)    # 차원의 개수를 잘 모를때 -1로 자동 설정

#%% md

** flatten ** 
- 1차원 배열로 변경

#%%

np.array(test_matrix).flatten()

#%% md

** indexing & slicing **
<br>
- indexing

#%%

a = np.array([[1,2,3],[4,5,6]], int)
print(a)
a[0,0] = 100
print(a[0][0])

#%% md

- slicing

#%%

b = np.array([[1,2,3],[4,5,6]], int)
b[:, 1:]    # 전체 row에서 1열 이상 데이터만
b[1, 1:3]   # 1 row에서 1열부터 3열 전까지

#%% md

### creation function

#%%

np.arange(30)    # List의 range와 같음

#%%

np.arange(0, 10, 2)    # (start, end, step)

#%%

# 0으로 초기화한 배열
np.zeros(shape=(5,2), dtype=np.int8)

#%%

# 1로 초기화한 배열
np.ones(shape=(10,), dtype=np.int8)

#%%

# 메모리 공간만 잡아줌 (초기화 안됨)
np.empty(shape=(10,))

#%% md

##### something_like
- 기존 ndarray의 shape만큼 1, 0, empty 배열을 반환
- ones_like, zeros_like ...

#%%

test_matrix = np.arange(20).reshape(-1, 4)
np.zeros_like(test_matrix)

#%% md

** identity **
- 단위 행렬

#%%

np.identity(n=3, dtype=np.int8)

#%% md

** eye **
- 대각선이 1인 행렬, 시작 인덱스 k 변경 가능

#%%

np.eye(N=3, M=6, k=2)

#%% md

- etc

#%%

test_matrix = np.arange(16).reshape(-1, 4)
np.diag(test_matrix)    # 대각 행렬의 값을 추출

#%%

# 균등 분포
np.random.uniform(0,1,10).reshape(2,5)

#%%

# 정규 분포
np.random.normal(0,1,10).reshape(2,5)

#%%

sum(test_matrix)   #ndarray의 원소간의 합

#%% md

##### axis
- 모든 연산의 기준이 되는 차원 축
- axis 값 예시
    - 1차원 배열 : column -> axis = 0
    - 2차원 배열 : row -> axis = 0, column -> axis = 1
    - 3차원 배열 : dimention -> axis = 0, row -> axis = 1, column -> axis = 2
    - 새로운 차원이 생길수록 한 기존 차원은 인덱스값이 밀린다

#%%

test_array = np.arange(1,13).reshape(3,4)
test_array.sum(axis=1), test_array.sum(axis=0)    
# row 기준 합 , column 기준 합 

#%% md

- concatenate

#%%

a = np.array([1,2,3])
b = np.array([2,3,4])
np.vstack((a,b))

#%%

a = np.array([[1],[2],[3]])
b = np.array([[2],[3],[4]])
np.hstack((a,b))

#%% md

### array operation

#%%

test_a = np.array([[1,2,3],[4,5,6]], int)

#%%

test_a + test_a

#%%

test_a - test_a

#%%

test_a * test_a    # 같은 위치에 있는 값들끼리 연산. 단, shape이 같을때

#%% md

##### Dot Product
- Matrix의 기본 연산

#%%

test_b = np.arange(1,7).reshape(2,3)
test_b = np.arange(7,13).reshape(3,2)

test_a.dot(test_b)

#%% md

##### broadcasting

#%%

test = np.arange(1,16).reshape(3,5)
scalar = 100    # 모든 요소에 한 값을 더해주는게 broadcasting
test + scalar

#%% md

### comparisons

##### all & any

#%%

# all
a = np.arange(10)
a>5    # 일종의 broadcasting

#%%

# any
np.all(a>5), np.any(a>5)

#%% md

##### logical

#%%

# logical : AND
np.logical_and(a>0, a<3)

#%%

# logical : OR
np.logical_or(a>0, a>100)

#%%

# logical : NOT
b = np.array([True, True, False])
np.logical_not(b)

#%% md

##### np.where

#%%

# 조건이 맞으면 첫번째, 조건이 맞지않으면 두번째 출력
np.where(a>4, "크다", "작다")

#%% md

##### argmax & argmin

#%%

a = np.arange(10)
np.argmax(a), np.argmin(a)

#%% md

##### boolean index
- 조건에 맞는 요소만 담아 새 배열 생성

#%%

test_array = np.arange(21)
test_array[test_array%2 == 0]    # 조건을 충족하는 요소만 담기
# where은 index를 추출, boolean은 data를 추출
